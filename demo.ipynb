{
 "cells": [
  {
   "cell_type": "code",
   "execution_count": 1,
   "metadata": {},
   "outputs": [],
   "source": [
    "from utils.sdk import ToDoApp\n",
    "import datetime as dt\n",
    "\n",
    "today = str(dt.date.today())\n",
    "tmrw = str(dt.date.today() + dt.timedelta(days=1))\n",
    "yday = str(dt.date.today() - dt.timedelta(days=1))"
   ]
  },
  {
   "attachments": {},
   "cell_type": "markdown",
   "metadata": {},
   "source": [
    "Create a new user"
   ]
  },
  {
   "cell_type": "code",
   "execution_count": 5,
   "metadata": {},
   "outputs": [],
   "source": [
    "u = ToDoApp.create_new_user(\"anna\")"
   ]
  },
  {
   "attachments": {},
   "cell_type": "markdown",
   "metadata": {},
   "source": [
    "Get a user you've already created"
   ]
  },
  {
   "cell_type": "code",
   "execution_count": 2,
   "metadata": {},
   "outputs": [],
   "source": [
    "u = ToDoApp(user_id=1)"
   ]
  },
  {
   "cell_type": "code",
   "execution_count": 3,
   "metadata": {},
   "outputs": [
    {
     "data": {
      "text/plain": [
       "{'name': 'anna', 'id': 1, 'createdAt': '2023-06-25T20:50:49.411523'}"
      ]
     },
     "execution_count": 3,
     "metadata": {},
     "output_type": "execute_result"
    }
   ],
   "source": [
    "u.user"
   ]
  },
  {
   "attachments": {},
   "cell_type": "markdown",
   "metadata": {},
   "source": [
    "Create new one off task - it doesn't repeat"
   ]
  },
  {
   "cell_type": "code",
   "execution_count": null,
   "metadata": {},
   "outputs": [],
   "source": [
    "u.new_task(\"go for run\", do_date=tmrw)"
   ]
  },
  {
   "attachments": {},
   "cell_type": "markdown",
   "metadata": {},
   "source": [
    "Create new habit, that repeats once every two days starting from tomorrow"
   ]
  },
  {
   "cell_type": "code",
   "execution_count": null,
   "metadata": {},
   "outputs": [],
   "source": [
    "u.new_habit(name=\"run\", interval_value=2, interval_type=\"day\", start_date=tmrw)"
   ]
  },
  {
   "attachments": {},
   "cell_type": "markdown",
   "metadata": {},
   "source": [
    "Look at the todos"
   ]
  },
  {
   "cell_type": "code",
   "execution_count": 4,
   "metadata": {},
   "outputs": [
    {
     "data": {
      "text/plain": [
       "{'2023-06-26': [{'currentScheduledDate': '2023-06-26',\n",
       "   'doneDate': None,\n",
       "   'habitId': 2,\n",
       "   'id': 18,\n",
       "   'name': 'wani kani',\n",
       "   'originalScheduledDate': '2023-06-26',\n",
       "   'type': 'habit',\n",
       "   'user_id': 1},\n",
       "  {'currentScheduledDate': '2023-06-26',\n",
       "   'doneDate': None,\n",
       "   'habitId': 3,\n",
       "   'id': 118,\n",
       "   'name': 'run',\n",
       "   'originalScheduledDate': '2023-06-26',\n",
       "   'type': 'habit',\n",
       "   'user_id': 1}]}"
      ]
     },
     "execution_count": 4,
     "metadata": {},
     "output_type": "execute_result"
    }
   ],
   "source": [
    "u.todos"
   ]
  },
  {
   "attachments": {},
   "cell_type": "markdown",
   "metadata": {},
   "source": [
    "Set a task/habit as complete using the date and the name"
   ]
  },
  {
   "cell_type": "code",
   "execution_count": 7,
   "metadata": {},
   "outputs": [],
   "source": [
    "u.set_complete(date=today, name=\"wani kani\")"
   ]
  }
 ],
 "metadata": {
  "kernelspec": {
   "display_name": "todo-flask-api",
   "language": "python",
   "name": "python3"
  },
  "language_info": {
   "codemirror_mode": {
    "name": "ipython",
    "version": 3
   },
   "file_extension": ".py",
   "mimetype": "text/x-python",
   "name": "python",
   "nbconvert_exporter": "python",
   "pygments_lexer": "ipython3",
   "version": "3.9.16"
  },
  "orig_nbformat": 4
 },
 "nbformat": 4,
 "nbformat_minor": 2
}
