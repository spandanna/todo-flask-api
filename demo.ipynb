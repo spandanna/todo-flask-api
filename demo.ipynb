{
 "cells": [
  {
   "cell_type": "code",
   "execution_count": 1,
   "metadata": {},
   "outputs": [],
   "source": [
    "from utils.sdk import ToDoApp\n",
    "import datetime as dt\n",
    "\n",
    "today = str(dt.date.today())\n",
    "tmrw = str(dt.date.today() + dt.timedelta(days=1))\n",
    "yday = str(dt.date.today() - dt.timedelta(days=1))"
   ]
  },
  {
   "attachments": {},
   "cell_type": "markdown",
   "metadata": {},
   "source": [
    "Create a new user"
   ]
  },
  {
   "cell_type": "code",
   "execution_count": 2,
   "metadata": {},
   "outputs": [],
   "source": [
    "name = \"add your name here\"\n",
    "u = ToDoApp.create_new_user(name)"
   ]
  },
  {
   "cell_type": "code",
   "execution_count": 3,
   "metadata": {},
   "outputs": [
    {
     "data": {
      "text/plain": [
       "{'name': 'add your name here',\n",
       " 'id': 4,\n",
       " 'createdAt': '2023-07-14T18:41:26.373850'}"
      ]
     },
     "execution_count": 3,
     "metadata": {},
     "output_type": "execute_result"
    }
   ],
   "source": [
    "u.user"
   ]
  },
  {
   "cell_type": "code",
   "execution_count": 4,
   "metadata": {},
   "outputs": [],
   "source": [
    "user_id = u.user[\"id\"]"
   ]
  },
  {
   "attachments": {},
   "cell_type": "markdown",
   "metadata": {},
   "source": [
    "Get a user you've already created"
   ]
  },
  {
   "cell_type": "code",
   "execution_count": 5,
   "metadata": {},
   "outputs": [],
   "source": [
    "u = ToDoApp(user_id=user_id)"
   ]
  },
  {
   "attachments": {},
   "cell_type": "markdown",
   "metadata": {},
   "source": [
    "Create new one off task - it doesn't repeat"
   ]
  },
  {
   "cell_type": "code",
   "execution_count": 6,
   "metadata": {},
   "outputs": [],
   "source": [
    "u.new_task(\"write to do list\", do_date=today)"
   ]
  },
  {
   "attachments": {},
   "cell_type": "markdown",
   "metadata": {},
   "source": [
    "Look at the todos"
   ]
  },
  {
   "cell_type": "code",
   "execution_count": 7,
   "metadata": {},
   "outputs": [
    {
     "data": {
      "text/plain": [
       "{'2023-07-14': [{'doneDate': None,\n",
       "   'habitId': None,\n",
       "   'id': 205,\n",
       "   'name': 'write to do list',\n",
       "   'originalScheduledDate': '2023-07-14',\n",
       "   'scheduledDate': '2023-07-14',\n",
       "   'type': 'task',\n",
       "   'userId': 4}],\n",
       " '2023-07-21': []}"
      ]
     },
     "execution_count": 7,
     "metadata": {},
     "output_type": "execute_result"
    }
   ],
   "source": [
    "u.todos"
   ]
  },
  {
   "attachments": {},
   "cell_type": "markdown",
   "metadata": {},
   "source": [
    "Create new habit, that repeats once every two days starting from tomorrow"
   ]
  },
  {
   "cell_type": "code",
   "execution_count": 8,
   "metadata": {},
   "outputs": [],
   "source": [
    "u.new_habit(name=\"write diary\", interval_value=2, interval_type=\"day\", start_date=today)"
   ]
  },
  {
   "attachments": {},
   "cell_type": "markdown",
   "metadata": {},
   "source": [
    "Look at the habits"
   ]
  },
  {
   "cell_type": "code",
   "execution_count": 9,
   "metadata": {},
   "outputs": [
    {
     "data": {
      "text/plain": [
       "[{'id': 3,\n",
       "  'name': 'write diary',\n",
       "  'userId': 4,\n",
       "  'createdAt': '2023-07-14T18:41:31.884183',\n",
       "  'startDate': '2023-07-14',\n",
       "  'endDate': None,\n",
       "  'intervalType': 'day',\n",
       "  'intervalValue': 2}]"
      ]
     },
     "execution_count": 9,
     "metadata": {},
     "output_type": "execute_result"
    }
   ],
   "source": [
    "u.habits"
   ]
  },
  {
   "attachments": {},
   "cell_type": "markdown",
   "metadata": {},
   "source": [
    "Look at the todos - it now includes scheduled habits"
   ]
  },
  {
   "cell_type": "code",
   "execution_count": 10,
   "metadata": {},
   "outputs": [
    {
     "data": {
      "text/plain": [
       "{'2023-07-14': [{'doneDate': None,\n",
       "   'habitId': None,\n",
       "   'id': 205,\n",
       "   'name': 'write to do list',\n",
       "   'originalScheduledDate': '2023-07-14',\n",
       "   'scheduledDate': '2023-07-14',\n",
       "   'type': 'task',\n",
       "   'userId': 4},\n",
       "  {'doneDate': None,\n",
       "   'habitId': 3,\n",
       "   'id': 206,\n",
       "   'name': 'write diary',\n",
       "   'originalScheduledDate': '2023-07-14',\n",
       "   'scheduledDate': '2023-07-14',\n",
       "   'type': 'habit',\n",
       "   'userId': 4}],\n",
       " '2023-07-15': [],\n",
       " '2023-07-16': [{'doneDate': None,\n",
       "   'habitId': 3,\n",
       "   'id': 207,\n",
       "   'name': 'write diary',\n",
       "   'originalScheduledDate': '2023-07-16',\n",
       "   'scheduledDate': '2023-07-16',\n",
       "   'type': 'habit',\n",
       "   'userId': 4}],\n",
       " '2023-07-17': [],\n",
       " '2023-07-18': [{'doneDate': None,\n",
       "   'habitId': 3,\n",
       "   'id': 208,\n",
       "   'name': 'write diary',\n",
       "   'originalScheduledDate': '2023-07-18',\n",
       "   'scheduledDate': '2023-07-18',\n",
       "   'type': 'habit',\n",
       "   'userId': 4}],\n",
       " '2023-07-19': [],\n",
       " '2023-07-20': [{'doneDate': None,\n",
       "   'habitId': 3,\n",
       "   'id': 209,\n",
       "   'name': 'write diary',\n",
       "   'originalScheduledDate': '2023-07-20',\n",
       "   'scheduledDate': '2023-07-20',\n",
       "   'type': 'habit',\n",
       "   'userId': 4}],\n",
       " '2023-07-21': []}"
      ]
     },
     "execution_count": 10,
     "metadata": {},
     "output_type": "execute_result"
    }
   ],
   "source": [
    "u.todos"
   ]
  },
  {
   "attachments": {},
   "cell_type": "markdown",
   "metadata": {},
   "source": [
    "Set a task/habit as complete using the date and the name"
   ]
  },
  {
   "cell_type": "code",
   "execution_count": 11,
   "metadata": {},
   "outputs": [],
   "source": [
    "u.set_complete(date=today, name=\"write to do list\")"
   ]
  },
  {
   "attachments": {},
   "cell_type": "markdown",
   "metadata": {},
   "source": [
    "Look at todos now, the doneDate shows today's date"
   ]
  },
  {
   "cell_type": "code",
   "execution_count": 13,
   "metadata": {},
   "outputs": [
    {
     "data": {
      "text/plain": [
       "[{'doneDate': '2023-07-14',\n",
       "  'habitId': None,\n",
       "  'id': 205,\n",
       "  'name': 'write to do list',\n",
       "  'originalScheduledDate': '2023-07-14',\n",
       "  'scheduledDate': '2023-07-14',\n",
       "  'type': 'task',\n",
       "  'userId': 4},\n",
       " {'doneDate': None,\n",
       "  'habitId': 3,\n",
       "  'id': 206,\n",
       "  'name': 'write diary',\n",
       "  'originalScheduledDate': '2023-07-14',\n",
       "  'scheduledDate': '2023-07-14',\n",
       "  'type': 'habit',\n",
       "  'userId': 4}]"
      ]
     },
     "execution_count": 13,
     "metadata": {},
     "output_type": "execute_result"
    }
   ],
   "source": [
    "u.todos[today]"
   ]
  },
  {
   "cell_type": "code",
   "execution_count": null,
   "metadata": {},
   "outputs": [],
   "source": []
  }
 ],
 "metadata": {
  "kernelspec": {
   "display_name": "todo-flask-api",
   "language": "python",
   "name": "python3"
  },
  "language_info": {
   "codemirror_mode": {
    "name": "ipython",
    "version": 3
   },
   "file_extension": ".py",
   "mimetype": "text/x-python",
   "name": "python",
   "nbconvert_exporter": "python",
   "pygments_lexer": "ipython3",
   "version": "3.9.16"
  },
  "orig_nbformat": 4
 },
 "nbformat": 4,
 "nbformat_minor": 2
}
