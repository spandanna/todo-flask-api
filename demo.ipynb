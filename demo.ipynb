{
 "cells": [
  {
   "cell_type": "code",
   "execution_count": 1,
   "metadata": {},
   "outputs": [],
   "source": [
    "from utils.sdk import ToDoApp\n",
    "import datetime as dt\n",
    "\n",
    "today = str(dt.date.today())\n",
    "tmrw = str(dt.date.today() + dt.timedelta(days=1))\n",
    "yday = str(dt.date.today() - dt.timedelta(days=1))"
   ]
  },
  {
   "attachments": {},
   "cell_type": "markdown",
   "metadata": {},
   "source": [
    "Create a new user"
   ]
  },
  {
   "cell_type": "code",
   "execution_count": null,
   "metadata": {},
   "outputs": [],
   "source": [
    "name = \"add your name here\"\n",
    "u = ToDoApp.create_new_user(name)"
   ]
  },
  {
   "cell_type": "code",
   "execution_count": null,
   "metadata": {},
   "outputs": [],
   "source": [
    "u.user"
   ]
  },
  {
   "cell_type": "code",
   "execution_count": null,
   "metadata": {},
   "outputs": [],
   "source": [
    "user_id = u.user[\"id\"]"
   ]
  },
  {
   "attachments": {},
   "cell_type": "markdown",
   "metadata": {},
   "source": [
    "Get a user you've already created"
   ]
  },
  {
   "cell_type": "code",
   "execution_count": 2,
   "metadata": {},
   "outputs": [],
   "source": [
    "u = ToDoApp(user_id=1)"
   ]
  },
  {
   "attachments": {},
   "cell_type": "markdown",
   "metadata": {},
   "source": [
    "Create new one off task - it doesn't repeat"
   ]
  },
  {
   "cell_type": "code",
   "execution_count": null,
   "metadata": {},
   "outputs": [],
   "source": [
    "u.new_task(\"write to do list\", do_date=today)"
   ]
  },
  {
   "attachments": {},
   "cell_type": "markdown",
   "metadata": {},
   "source": [
    "Look at the todos"
   ]
  },
  {
   "cell_type": "code",
   "execution_count": 4,
   "metadata": {},
   "outputs": [
    {
     "data": {
      "text/plain": [
       "[{'id': 1,\n",
       "  'name': 'water plants',\n",
       "  'userId': 1,\n",
       "  'createdAt': '2023-06-25T20:50:56.456465',\n",
       "  'startDate': '2023-06-25',\n",
       "  'endDate': None,\n",
       "  'intervalType': 'week',\n",
       "  'intervalValue': 1},\n",
       " {'id': 2,\n",
       "  'name': 'wani kani',\n",
       "  'userId': 1,\n",
       "  'createdAt': '2023-06-25T21:16:38.764993',\n",
       "  'startDate': '2023-06-25',\n",
       "  'endDate': None,\n",
       "  'intervalType': 'day',\n",
       "  'intervalValue': 1},\n",
       " {'id': 3,\n",
       "  'name': 'run',\n",
       "  'userId': 1,\n",
       "  'createdAt': '2023-06-25T21:21:43.269219',\n",
       "  'startDate': '2023-06-26',\n",
       "  'endDate': None,\n",
       "  'intervalType': 'day',\n",
       "  'intervalValue': 2}]"
      ]
     },
     "execution_count": 4,
     "metadata": {},
     "output_type": "execute_result"
    }
   ],
   "source": [
    "u.habits"
   ]
  },
  {
   "attachments": {},
   "cell_type": "markdown",
   "metadata": {},
   "source": [
    "Create new habit, that repeats once every two days starting from tomorrow"
   ]
  },
  {
   "cell_type": "code",
   "execution_count": 10,
   "metadata": {},
   "outputs": [],
   "source": [
    "u.new_habit(name=\"write diary\", interval_value=1, interval_type=\"day\", start_date=today)"
   ]
  },
  {
   "attachments": {},
   "cell_type": "markdown",
   "metadata": {},
   "source": [
    "Look at the todos"
   ]
  },
  {
   "cell_type": "code",
   "execution_count": null,
   "metadata": {},
   "outputs": [],
   "source": [
    "u.todos"
   ]
  },
  {
   "attachments": {},
   "cell_type": "markdown",
   "metadata": {},
   "source": [
    "Set a task/habit as complete using the date and the name"
   ]
  },
  {
   "cell_type": "code",
   "execution_count": 9,
   "metadata": {},
   "outputs": [],
   "source": [
    "u.set_complete(date=today, name=\"stretching\")"
   ]
  },
  {
   "cell_type": "code",
   "execution_count": null,
   "metadata": {},
   "outputs": [],
   "source": []
  }
 ],
 "metadata": {
  "kernelspec": {
   "display_name": "todo-flask-api",
   "language": "python",
   "name": "python3"
  },
  "language_info": {
   "codemirror_mode": {
    "name": "ipython",
    "version": 3
   },
   "file_extension": ".py",
   "mimetype": "text/x-python",
   "name": "python",
   "nbconvert_exporter": "python",
   "pygments_lexer": "ipython3",
   "version": "3.9.16"
  },
  "orig_nbformat": 4
 },
 "nbformat": 4,
 "nbformat_minor": 2
}
