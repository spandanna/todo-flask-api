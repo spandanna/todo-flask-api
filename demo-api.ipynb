{
 "cells": [
  {
   "cell_type": "code",
   "execution_count": 1,
   "metadata": {},
   "outputs": [],
   "source": [
    "import requests"
   ]
  },
  {
   "cell_type": "code",
   "execution_count": 3,
   "metadata": {},
   "outputs": [],
   "source": [
    "api_url = \"http://127.0.0.1:5000/api/v1\""
   ]
  },
  {
   "cell_type": "code",
   "execution_count": 6,
   "metadata": {},
   "outputs": [
    {
     "data": {
      "text/plain": [
       "<Response [200]>"
      ]
     },
     "execution_count": 6,
     "metadata": {},
     "output_type": "execute_result"
    }
   ],
   "source": [
    "response = requests.get(api_url)\n",
    "response"
   ]
  },
  {
   "cell_type": "code",
   "execution_count": 7,
   "metadata": {},
   "outputs": [
    {
     "data": {
      "text/plain": [
       "{'2023-07-29': [{'doneDate': None,\n",
       "   'habitId': None,\n",
       "   'id': 258,\n",
       "   'name': 'see scratch project',\n",
       "   'originalScheduledDate': '2023-07-27',\n",
       "   'scheduledDate': '2023-07-29',\n",
       "   'type': 'task',\n",
       "   'userId': 3},\n",
       "  {'doneDate': None,\n",
       "   'habitId': 5,\n",
       "   'id': 261,\n",
       "   'name': 'wake up 6 am',\n",
       "   'originalScheduledDate': '2023-07-29',\n",
       "   'scheduledDate': '2023-07-29',\n",
       "   'type': 'habit',\n",
       "   'userId': 3}]}"
      ]
     },
     "execution_count": 7,
     "metadata": {},
     "output_type": "execute_result"
    }
   ],
   "source": [
    "response = requests.get(f\"{api_url}/users/3/todos?horizon=0\")\n",
    "response.json()"
   ]
  },
  {
   "cell_type": "code",
   "execution_count": 9,
   "metadata": {},
   "outputs": [
    {
     "data": {
      "text/plain": [
       "<Response [204]>"
      ]
     },
     "execution_count": 9,
     "metadata": {},
     "output_type": "execute_result"
    }
   ],
   "source": [
    "updates = {\n",
    "    \"doneDate\": \"2023-07-29\"\n",
    "}\n",
    "response = requests.patch(f\"{api_url}/users/3/todos/261\", json=updates)\n",
    "response"
   ]
  },
  {
   "cell_type": "code",
   "execution_count": 10,
   "metadata": {},
   "outputs": [
    {
     "data": {
      "text/plain": [
       "{'2023-07-29': [{'doneDate': None,\n",
       "   'habitId': None,\n",
       "   'id': 258,\n",
       "   'name': 'see scratch project',\n",
       "   'originalScheduledDate': '2023-07-27',\n",
       "   'scheduledDate': '2023-07-29',\n",
       "   'type': 'task',\n",
       "   'userId': 3},\n",
       "  {'doneDate': '2023-07-29',\n",
       "   'habitId': 5,\n",
       "   'id': 261,\n",
       "   'name': 'wake up 6 am',\n",
       "   'originalScheduledDate': '2023-07-29',\n",
       "   'scheduledDate': '2023-07-29',\n",
       "   'type': 'habit',\n",
       "   'userId': 3}]}"
      ]
     },
     "execution_count": 10,
     "metadata": {},
     "output_type": "execute_result"
    }
   ],
   "source": [
    "response = requests.get(f\"{api_url}/users/3/todos?horizon=0\")\n",
    "response.json()"
   ]
  },
  {
   "cell_type": "code",
   "execution_count": 14,
   "metadata": {},
   "outputs": [
    {
     "data": {
      "text/plain": [
       "'[{\"id\": 5, \"name\": \"wake up 6 am\", \"userId\": 3, \"createdAt\": \"2023-07-27T06:49:57.398202\", \"startDate\": \"2023-07-27\", \"endDate\": null, \"completionRate\": 0.3333333333333333, \"intervalType\": \"day\", \"intervalValue\": 1}]'"
      ]
     },
     "execution_count": 14,
     "metadata": {},
     "output_type": "execute_result"
    }
   ],
   "source": [
    "response = requests.get(f\"{api_url}/users/3/habits?get-completion-rate=true\")\n",
    "response.json()"
   ]
  },
  {
   "cell_type": "code",
   "execution_count": null,
   "metadata": {},
   "outputs": [],
   "source": []
  }
 ],
 "metadata": {
  "kernelspec": {
   "display_name": "todo-flask-api",
   "language": "python",
   "name": "python3"
  },
  "language_info": {
   "codemirror_mode": {
    "name": "ipython",
    "version": 3
   },
   "file_extension": ".py",
   "mimetype": "text/x-python",
   "name": "python",
   "nbconvert_exporter": "python",
   "pygments_lexer": "ipython3",
   "version": "3.9.16"
  },
  "orig_nbformat": 4
 },
 "nbformat": 4,
 "nbformat_minor": 2
}
